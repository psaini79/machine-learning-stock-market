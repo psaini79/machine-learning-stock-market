{
 "cells": [
  {
   "cell_type": "code",
   "execution_count": 1,
   "metadata": {},
   "outputs": [],
   "source": [
    "import pandas as pd\n",
    "import matplotlib.pyplot as plt\n",
    "import quandl\n",
    "import numpy as np\n",
    "from sklearn.cluster import MeanShift\n",
    "from math import sqrt\n",
    "from mpl_toolkits.mplot3d import Axes3D"
   ]
  },
  {
   "cell_type": "code",
   "execution_count": 2,
   "metadata": {},
   "outputs": [
    {
     "name": "stdout",
     "output_type": "stream",
     "text": [
      "Index(['Returns'], dtype='object')\n"
     ]
    }
   ],
   "source": [
    "prices_df = pd.read_csv(\"C:\\k.v.singh\\SJSU\\Fall_2019\\Machine Learning\\machine-learning-stock-market-master (1)\\machine-learning-stock-market-master\\one_year_data.csv\", index_col=[0], parse_dates=[0])\n",
    "returns = prices_df.pct_change().mean() * 252\n",
    "returns = pd.DataFrame(returns)\n",
    "#print(returns)\n",
    "returns.columns = ['Returns']\n",
    "print (returns.columns)"
   ]
  },
  {
   "cell_type": "code",
   "execution_count": 3,
   "metadata": {},
   "outputs": [],
   "source": [
    "returns['Volatility'] = prices_df.pct_change().std() * sqrt(252)\n",
    "#print(returns['Volatility'])\n",
    "#format the data as a numpy array to feed into the K-Means algorithm\n",
    "data = np.asarray([np.asarray(returns['Returns']),np.asarray(returns['Volatility'])]).T\n",
    "#removing NaN values, replacing them by 0\n",
    "cleaned_data = np.where(np.isnan(data), 0, data)\n",
    "#print(cleaned_data)"
   ]
  },
  {
   "cell_type": "code",
   "execution_count": 4,
   "metadata": {},
   "outputs": [
    {
     "name": "stdout",
     "output_type": "stream",
     "text": [
      "[[ 0.20752816  0.17842356]\n",
      " [-0.42686505  0.43029476]\n",
      " [ 0.79491932  0.34453643]\n",
      " [-0.02889424  0.60853359]\n",
      " [-0.53526164  0.14786094]\n",
      " [ 3.10869906  3.02861726]\n",
      " [ 1.77775411  0.68662065]]\n"
     ]
    }
   ],
   "source": [
    "X = cleaned_data\n",
    "ms = MeanShift()\n",
    "ms.fit(X)\n",
    "cluster_centers = ms.cluster_centers_\n",
    "print (cluster_centers)"
   ]
  },
  {
   "cell_type": "code",
   "execution_count": 5,
   "metadata": {},
   "outputs": [
    {
     "data": {
      "image/png": "[encoded data removed]",
      "text/plain": [
       "<Figure size 432x288 with 1 Axes>"
      ]
     },
     "metadata": {
      "needs_background": "light"
     },
     "output_type": "display_data"
    }
   ],
   "source": [
    "fig = plt.figure()\n",
    "#ax = fig.add_subplot(111, projection ='2d') \n",
    "#ax.scatter(X[:, 0], X[:, 1], X[:, 2], marker ='o')\n",
    "#ax.scatter(cluster_centers[:, 0], cluster_centers[:, 1], cluster_centers[:, 2], marker ='x', color ='red', \n",
    "#           s = 300, linewidth = 5, zorder = 10) \n",
    "ax = fig.add_subplot(111)\n",
    "ax.scatter(X[:, 0], X[:, 1], marker ='o') \n",
    "ax.scatter(cluster_centers[:, 0], cluster_centers[:, 1], marker ='x', color ='red', \n",
    "           s = 300, linewidth = 5, zorder = 10)\n",
    "  \n",
    "plt.show() "
   ]
  },
  {
   "cell_type": "code",
   "execution_count": 6,
   "metadata": {},
   "outputs": [
    {
     "data": {
      "image/png": "[encoded data removed]",
      "text/plain": [
       "<Figure size 432x288 with 1 Axes>"
      ]
     },
     "metadata": {
      "needs_background": "light"
     },
     "output_type": "display_data"
    }
   ],
   "source": [
    "from itertools import cycle\n",
    "labels = ms.labels_\n",
    "labels_unique = np.unique(labels)\n",
    "n_clusters_ = len(labels_unique)\n",
    "#print(\"number of estimated clusters : %d\" % n_clusters_)\n",
    "\n",
    "plt.figure()\n",
    "colors = cycle('bgrcmykbgrcmykbgrcmykbgrcmyk')\n",
    "for k, col in zip(range(n_clusters_), colors):\n",
    "    my_members = labels == k\n",
    "    cluster_center = cluster_centers[k]\n",
    "    plt.plot(X[my_members, 0], X[my_members, 1], col + '.')\n",
    "    plt.plot(cluster_center[0], cluster_center[1], 'o', markerfacecolor=col,\n",
    "             markeredgecolor='k', markersize=14)\n",
    "plt.title('Estimated number of clusters: %d' % n_clusters_)\n",
    "plt.show()"
   ]
  },
  {
   "cell_type": "code",
   "execution_count": null,
   "metadata": {},
   "outputs": [],
   "source": []
  }
 ],
 "metadata": {
  "kernelspec": {
   "display_name": "Python 3",
   "language": "python",
   "name": "python3"
  },
  "language_info": {
   "codemirror_mode": {
    "name": "ipython",
    "version": 3
   },
   "file_extension": ".py",
   "mimetype": "text/x-python",
   "name": "python",
   "nbconvert_exporter": "python",
   "pygments_lexer": "ipython3",
   "version": "3.7.3"
  }
 },
 "nbformat": 4,
 "nbformat_minor": 2
}
