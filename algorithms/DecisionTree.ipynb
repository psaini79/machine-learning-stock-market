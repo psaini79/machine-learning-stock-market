{
 "cells": [
  {
   "cell_type": "code",
   "execution_count": 4,
   "metadata": {},
   "outputs": [
    {
     "ename": "ModuleNotFoundError",
     "evalue": "No module named 'talib'",
     "output_type": "error",
     "traceback": [
      "\u001b[0;31m---------------------------------------------------------------------------\u001b[0m",
      "\u001b[0;31mModuleNotFoundError\u001b[0m                       Traceback (most recent call last)",
      "\u001b[0;32m<ipython-input-4-c2910f568a0e>\u001b[0m in \u001b[0;36m<module>\u001b[0;34m\u001b[0m\n\u001b[1;32m      3\u001b[0m \u001b[0;32mimport\u001b[0m \u001b[0mpandas\u001b[0m \u001b[0;32mas\u001b[0m \u001b[0mpd\u001b[0m\u001b[0;34m\u001b[0m\u001b[0;34m\u001b[0m\u001b[0m\n\u001b[1;32m      4\u001b[0m \u001b[0;32mimport\u001b[0m \u001b[0mnumpy\u001b[0m \u001b[0;32mas\u001b[0m \u001b[0mnp\u001b[0m\u001b[0;34m\u001b[0m\u001b[0;34m\u001b[0m\u001b[0m\n\u001b[0;32m----> 5\u001b[0;31m \u001b[0;32mimport\u001b[0m \u001b[0mtalib\u001b[0m \u001b[0;32mas\u001b[0m \u001b[0mta\u001b[0m\u001b[0;34m\u001b[0m\u001b[0;34m\u001b[0m\u001b[0m\n\u001b[0m\u001b[1;32m      6\u001b[0m \u001b[0;32mimport\u001b[0m \u001b[0mwarnings\u001b[0m\u001b[0;34m\u001b[0m\u001b[0;34m\u001b[0m\u001b[0m\n\u001b[1;32m      7\u001b[0m \u001b[0mwarnings\u001b[0m\u001b[0;34m.\u001b[0m\u001b[0mfilterwarnings\u001b[0m\u001b[0;34m(\u001b[0m\u001b[0;34m'ignore'\u001b[0m\u001b[0;34m)\u001b[0m\u001b[0;34m\u001b[0m\u001b[0;34m\u001b[0m\u001b[0m\n",
      "\u001b[0;31mModuleNotFoundError\u001b[0m: No module named 'talib'"
     ]
    }
   ],
   "source": [
    "\n",
    "import matplotlib.pyplot as plt\n",
    "from datetime import datetime\n",
    "import pandas as pd\n",
    "import numpy as np\n",
    "import talib as ta\n",
    "import warnings\n",
    "warnings.filterwarnings('ignore')"
   ]
  },
  {
   "cell_type": "code",
   "execution_count": 2,
   "metadata": {},
   "outputs": [
    {
     "ename": "FileNotFoundError",
     "evalue": "[Errno 2] File b'DecisionTree_AMZN.csv' does not exist: b'DecisionTree_AMZN.csv'",
     "output_type": "error",
     "traceback": [
      "\u001b[0;31m---------------------------------------------------------------------------\u001b[0m",
      "\u001b[0;31mFileNotFoundError\u001b[0m                         Traceback (most recent call last)",
      "\u001b[0;32m<ipython-input-2-26fe656ad664>\u001b[0m in \u001b[0;36m<module>\u001b[0;34m\u001b[0m\n\u001b[0;32m----> 1\u001b[0;31m \u001b[0mdf\u001b[0m \u001b[0;34m=\u001b[0m \u001b[0mpd\u001b[0m\u001b[0;34m.\u001b[0m\u001b[0mread_csv\u001b[0m\u001b[0;34m(\u001b[0m\u001b[0;34m\"DecisionTree_AMZN.csv\"\u001b[0m\u001b[0;34m,\u001b[0m \u001b[0mdelimiter\u001b[0m \u001b[0;34m=\u001b[0m \u001b[0;34m','\u001b[0m\u001b[0;34m,\u001b[0m \u001b[0mindex_col\u001b[0m \u001b[0;34m=\u001b[0m \u001b[0;34m'date'\u001b[0m\u001b[0;34m,\u001b[0m \u001b[0mparse_dates\u001b[0m \u001b[0;34m=\u001b[0m \u001b[0;32mTrue\u001b[0m\u001b[0;34m)\u001b[0m\u001b[0;34m\u001b[0m\u001b[0;34m\u001b[0m\u001b[0m\n\u001b[0m\u001b[1;32m      2\u001b[0m \u001b[0mdf\u001b[0m \u001b[0;34m=\u001b[0m \u001b[0mdf\u001b[0m\u001b[0;34m.\u001b[0m\u001b[0mloc\u001b[0m\u001b[0;34m[\u001b[0m\u001b[0mdf\u001b[0m\u001b[0;34m[\u001b[0m\u001b[0;34m'Name'\u001b[0m\u001b[0;34m]\u001b[0m \u001b[0;34m==\u001b[0m \u001b[0;34m'AMZN'\u001b[0m\u001b[0;34m]\u001b[0m\u001b[0;34m\u001b[0m\u001b[0;34m\u001b[0m\u001b[0m\n\u001b[1;32m      3\u001b[0m \u001b[0mdf\u001b[0m\u001b[0;34m[\u001b[0m\u001b[0;34m'volume'\u001b[0m\u001b[0;34m]\u001b[0m \u001b[0;34m=\u001b[0m \u001b[0mdf\u001b[0m\u001b[0;34m[\u001b[0m\u001b[0;34m'volume'\u001b[0m\u001b[0;34m]\u001b[0m \u001b[0;34m/\u001b[0m \u001b[0mdf\u001b[0m\u001b[0;34m[\u001b[0m\u001b[0;34m'volume'\u001b[0m\u001b[0;34m]\u001b[0m\u001b[0;34m.\u001b[0m\u001b[0mrolling\u001b[0m\u001b[0;34m(\u001b[0m\u001b[0;36m20\u001b[0m\u001b[0;34m)\u001b[0m\u001b[0;34m.\u001b[0m\u001b[0mmean\u001b[0m\u001b[0;34m(\u001b[0m\u001b[0;34m)\u001b[0m\u001b[0;34m\u001b[0m\u001b[0;34m\u001b[0m\u001b[0m\n\u001b[1;32m      4\u001b[0m \u001b[0mdf\u001b[0m\u001b[0;34m[\u001b[0m\u001b[0;34m'range'\u001b[0m\u001b[0;34m]\u001b[0m \u001b[0;34m=\u001b[0m \u001b[0;34m(\u001b[0m\u001b[0mdf\u001b[0m\u001b[0;34m[\u001b[0m\u001b[0;34m'high'\u001b[0m\u001b[0;34m]\u001b[0m \u001b[0;34m-\u001b[0m \u001b[0mdf\u001b[0m\u001b[0;34m[\u001b[0m\u001b[0;34m'low'\u001b[0m\u001b[0;34m]\u001b[0m\u001b[0;34m)\u001b[0m \u001b[0;34m/\u001b[0m \u001b[0mta\u001b[0m\u001b[0;34m.\u001b[0m\u001b[0mATR\u001b[0m\u001b[0;34m(\u001b[0m\u001b[0mdf\u001b[0m\u001b[0;34m.\u001b[0m\u001b[0mhigh\u001b[0m\u001b[0;34m.\u001b[0m\u001b[0mvalues\u001b[0m\u001b[0;34m,\u001b[0m \u001b[0mdf\u001b[0m\u001b[0;34m.\u001b[0m\u001b[0mlow\u001b[0m\u001b[0;34m.\u001b[0m\u001b[0mvalues\u001b[0m\u001b[0;34m,\u001b[0m \u001b[0mdf\u001b[0m\u001b[0;34m.\u001b[0m\u001b[0mclose\u001b[0m\u001b[0;34m.\u001b[0m\u001b[0mvalues\u001b[0m\u001b[0;34m,\u001b[0m \u001b[0;36m20\u001b[0m\u001b[0;34m)\u001b[0m\u001b[0;34m\u001b[0m\u001b[0;34m\u001b[0m\u001b[0m\n\u001b[1;32m      5\u001b[0m \u001b[0mdf\u001b[0m\u001b[0;34m[\u001b[0m\u001b[0;34m'return'\u001b[0m\u001b[0;34m]\u001b[0m \u001b[0;34m=\u001b[0m \u001b[0mdf\u001b[0m\u001b[0;34m.\u001b[0m\u001b[0mopen\u001b[0m\u001b[0;34m.\u001b[0m\u001b[0mshift\u001b[0m\u001b[0;34m(\u001b[0m\u001b[0;34m-\u001b[0m\u001b[0;36m2\u001b[0m\u001b[0;34m)\u001b[0m \u001b[0;34m-\u001b[0m \u001b[0mdf\u001b[0m\u001b[0;34m.\u001b[0m\u001b[0mopen\u001b[0m\u001b[0;34m.\u001b[0m\u001b[0mshift\u001b[0m\u001b[0;34m(\u001b[0m\u001b[0;34m-\u001b[0m\u001b[0;36m1\u001b[0m\u001b[0;34m)\u001b[0m\u001b[0;34m\u001b[0m\u001b[0;34m\u001b[0m\u001b[0m\n",
      "\u001b[0;32m~/ml-cmpe257/venv/lib/python3.6/site-packages/pandas/io/parsers.py\u001b[0m in \u001b[0;36mparser_f\u001b[0;34m(filepath_or_buffer, sep, delimiter, header, names, index_col, usecols, squeeze, prefix, mangle_dupe_cols, dtype, engine, converters, true_values, false_values, skipinitialspace, skiprows, skipfooter, nrows, na_values, keep_default_na, na_filter, verbose, skip_blank_lines, parse_dates, infer_datetime_format, keep_date_col, date_parser, dayfirst, cache_dates, iterator, chunksize, compression, thousands, decimal, lineterminator, quotechar, quoting, doublequote, escapechar, comment, encoding, dialect, error_bad_lines, warn_bad_lines, delim_whitespace, low_memory, memory_map, float_precision)\u001b[0m\n\u001b[1;32m    683\u001b[0m         )\n\u001b[1;32m    684\u001b[0m \u001b[0;34m\u001b[0m\u001b[0m\n\u001b[0;32m--> 685\u001b[0;31m         \u001b[0;32mreturn\u001b[0m \u001b[0m_read\u001b[0m\u001b[0;34m(\u001b[0m\u001b[0mfilepath_or_buffer\u001b[0m\u001b[0;34m,\u001b[0m \u001b[0mkwds\u001b[0m\u001b[0;34m)\u001b[0m\u001b[0;34m\u001b[0m\u001b[0;34m\u001b[0m\u001b[0m\n\u001b[0m\u001b[1;32m    686\u001b[0m \u001b[0;34m\u001b[0m\u001b[0m\n\u001b[1;32m    687\u001b[0m     \u001b[0mparser_f\u001b[0m\u001b[0;34m.\u001b[0m\u001b[0m__name__\u001b[0m \u001b[0;34m=\u001b[0m \u001b[0mname\u001b[0m\u001b[0;34m\u001b[0m\u001b[0;34m\u001b[0m\u001b[0m\n",
      "\u001b[0;32m~/ml-cmpe257/venv/lib/python3.6/site-packages/pandas/io/parsers.py\u001b[0m in \u001b[0;36m_read\u001b[0;34m(filepath_or_buffer, kwds)\u001b[0m\n\u001b[1;32m    455\u001b[0m \u001b[0;34m\u001b[0m\u001b[0m\n\u001b[1;32m    456\u001b[0m     \u001b[0;31m# Create the parser.\u001b[0m\u001b[0;34m\u001b[0m\u001b[0;34m\u001b[0m\u001b[0;34m\u001b[0m\u001b[0m\n\u001b[0;32m--> 457\u001b[0;31m     \u001b[0mparser\u001b[0m \u001b[0;34m=\u001b[0m \u001b[0mTextFileReader\u001b[0m\u001b[0;34m(\u001b[0m\u001b[0mfp_or_buf\u001b[0m\u001b[0;34m,\u001b[0m \u001b[0;34m**\u001b[0m\u001b[0mkwds\u001b[0m\u001b[0;34m)\u001b[0m\u001b[0;34m\u001b[0m\u001b[0;34m\u001b[0m\u001b[0m\n\u001b[0m\u001b[1;32m    458\u001b[0m \u001b[0;34m\u001b[0m\u001b[0m\n\u001b[1;32m    459\u001b[0m     \u001b[0;32mif\u001b[0m \u001b[0mchunksize\u001b[0m \u001b[0;32mor\u001b[0m \u001b[0miterator\u001b[0m\u001b[0;34m:\u001b[0m\u001b[0;34m\u001b[0m\u001b[0;34m\u001b[0m\u001b[0m\n",
      "\u001b[0;32m~/ml-cmpe257/venv/lib/python3.6/site-packages/pandas/io/parsers.py\u001b[0m in \u001b[0;36m__init__\u001b[0;34m(self, f, engine, **kwds)\u001b[0m\n\u001b[1;32m    893\u001b[0m             \u001b[0mself\u001b[0m\u001b[0;34m.\u001b[0m\u001b[0moptions\u001b[0m\u001b[0;34m[\u001b[0m\u001b[0;34m\"has_index_names\"\u001b[0m\u001b[0;34m]\u001b[0m \u001b[0;34m=\u001b[0m \u001b[0mkwds\u001b[0m\u001b[0;34m[\u001b[0m\u001b[0;34m\"has_index_names\"\u001b[0m\u001b[0;34m]\u001b[0m\u001b[0;34m\u001b[0m\u001b[0;34m\u001b[0m\u001b[0m\n\u001b[1;32m    894\u001b[0m \u001b[0;34m\u001b[0m\u001b[0m\n\u001b[0;32m--> 895\u001b[0;31m         \u001b[0mself\u001b[0m\u001b[0;34m.\u001b[0m\u001b[0m_make_engine\u001b[0m\u001b[0;34m(\u001b[0m\u001b[0mself\u001b[0m\u001b[0;34m.\u001b[0m\u001b[0mengine\u001b[0m\u001b[0;34m)\u001b[0m\u001b[0;34m\u001b[0m\u001b[0;34m\u001b[0m\u001b[0m\n\u001b[0m\u001b[1;32m    896\u001b[0m \u001b[0;34m\u001b[0m\u001b[0m\n\u001b[1;32m    897\u001b[0m     \u001b[0;32mdef\u001b[0m \u001b[0mclose\u001b[0m\u001b[0;34m(\u001b[0m\u001b[0mself\u001b[0m\u001b[0;34m)\u001b[0m\u001b[0;34m:\u001b[0m\u001b[0;34m\u001b[0m\u001b[0;34m\u001b[0m\u001b[0m\n",
      "\u001b[0;32m~/ml-cmpe257/venv/lib/python3.6/site-packages/pandas/io/parsers.py\u001b[0m in \u001b[0;36m_make_engine\u001b[0;34m(self, engine)\u001b[0m\n\u001b[1;32m   1133\u001b[0m     \u001b[0;32mdef\u001b[0m \u001b[0m_make_engine\u001b[0m\u001b[0;34m(\u001b[0m\u001b[0mself\u001b[0m\u001b[0;34m,\u001b[0m \u001b[0mengine\u001b[0m\u001b[0;34m=\u001b[0m\u001b[0;34m\"c\"\u001b[0m\u001b[0;34m)\u001b[0m\u001b[0;34m:\u001b[0m\u001b[0;34m\u001b[0m\u001b[0;34m\u001b[0m\u001b[0m\n\u001b[1;32m   1134\u001b[0m         \u001b[0;32mif\u001b[0m \u001b[0mengine\u001b[0m \u001b[0;34m==\u001b[0m \u001b[0;34m\"c\"\u001b[0m\u001b[0;34m:\u001b[0m\u001b[0;34m\u001b[0m\u001b[0;34m\u001b[0m\u001b[0m\n\u001b[0;32m-> 1135\u001b[0;31m             \u001b[0mself\u001b[0m\u001b[0;34m.\u001b[0m\u001b[0m_engine\u001b[0m \u001b[0;34m=\u001b[0m \u001b[0mCParserWrapper\u001b[0m\u001b[0;34m(\u001b[0m\u001b[0mself\u001b[0m\u001b[0;34m.\u001b[0m\u001b[0mf\u001b[0m\u001b[0;34m,\u001b[0m \u001b[0;34m**\u001b[0m\u001b[0mself\u001b[0m\u001b[0;34m.\u001b[0m\u001b[0moptions\u001b[0m\u001b[0;34m)\u001b[0m\u001b[0;34m\u001b[0m\u001b[0;34m\u001b[0m\u001b[0m\n\u001b[0m\u001b[1;32m   1136\u001b[0m         \u001b[0;32melse\u001b[0m\u001b[0;34m:\u001b[0m\u001b[0;34m\u001b[0m\u001b[0;34m\u001b[0m\u001b[0m\n\u001b[1;32m   1137\u001b[0m             \u001b[0;32mif\u001b[0m \u001b[0mengine\u001b[0m \u001b[0;34m==\u001b[0m \u001b[0;34m\"python\"\u001b[0m\u001b[0;34m:\u001b[0m\u001b[0;34m\u001b[0m\u001b[0;34m\u001b[0m\u001b[0m\n",
      "\u001b[0;32m~/ml-cmpe257/venv/lib/python3.6/site-packages/pandas/io/parsers.py\u001b[0m in \u001b[0;36m__init__\u001b[0;34m(self, src, **kwds)\u001b[0m\n\u001b[1;32m   1915\u001b[0m         \u001b[0mkwds\u001b[0m\u001b[0;34m[\u001b[0m\u001b[0;34m\"usecols\"\u001b[0m\u001b[0;34m]\u001b[0m \u001b[0;34m=\u001b[0m \u001b[0mself\u001b[0m\u001b[0;34m.\u001b[0m\u001b[0musecols\u001b[0m\u001b[0;34m\u001b[0m\u001b[0;34m\u001b[0m\u001b[0m\n\u001b[1;32m   1916\u001b[0m \u001b[0;34m\u001b[0m\u001b[0m\n\u001b[0;32m-> 1917\u001b[0;31m         \u001b[0mself\u001b[0m\u001b[0;34m.\u001b[0m\u001b[0m_reader\u001b[0m \u001b[0;34m=\u001b[0m \u001b[0mparsers\u001b[0m\u001b[0;34m.\u001b[0m\u001b[0mTextReader\u001b[0m\u001b[0;34m(\u001b[0m\u001b[0msrc\u001b[0m\u001b[0;34m,\u001b[0m \u001b[0;34m**\u001b[0m\u001b[0mkwds\u001b[0m\u001b[0;34m)\u001b[0m\u001b[0;34m\u001b[0m\u001b[0;34m\u001b[0m\u001b[0m\n\u001b[0m\u001b[1;32m   1918\u001b[0m         \u001b[0mself\u001b[0m\u001b[0;34m.\u001b[0m\u001b[0munnamed_cols\u001b[0m \u001b[0;34m=\u001b[0m \u001b[0mself\u001b[0m\u001b[0;34m.\u001b[0m\u001b[0m_reader\u001b[0m\u001b[0;34m.\u001b[0m\u001b[0munnamed_cols\u001b[0m\u001b[0;34m\u001b[0m\u001b[0;34m\u001b[0m\u001b[0m\n\u001b[1;32m   1919\u001b[0m \u001b[0;34m\u001b[0m\u001b[0m\n",
      "\u001b[0;32mpandas/_libs/parsers.pyx\u001b[0m in \u001b[0;36mpandas._libs.parsers.TextReader.__cinit__\u001b[0;34m()\u001b[0m\n",
      "\u001b[0;32mpandas/_libs/parsers.pyx\u001b[0m in \u001b[0;36mpandas._libs.parsers.TextReader._setup_parser_source\u001b[0;34m()\u001b[0m\n",
      "\u001b[0;31mFileNotFoundError\u001b[0m: [Errno 2] File b'DecisionTree_AMZN.csv' does not exist: b'DecisionTree_AMZN.csv'"
     ]
    }
   ],
   "source": [
    "df = pd.read_csv(\"../DecisionTree_AMZN.csv\", delimiter = ',', index_col = 'date', parse_dates = True)\n",
    "df = df.loc[df['Name'] == 'AMZN']\n",
    "df['volume'] = df['volume'] / df['volume'].rolling(20).mean()\n",
    "df['range'] = (df['high'] - df['low']) / ta.ATR(df.high.values, df.low.values, df.close.values, 20)\n",
    "df['return'] = df.open.shift(-2) - df.open.shift(-1)\n",
    "df['EMA10'] = ta.EMA(df['close'].values, timeperiod = 10)\n",
    "df['EMA30'] = ta.EMA(df['close'].values, timeperiod = 30)\n",
    "df['ATR'] = ta.ATR(df['high'].values, df['low'].values, df['close'].values, timeperiod = 14)\n",
    "df['ADX'] = ta.ADX(df['high'].values, df['low'].values, df['close'].values, timeperiod = 14)\n",
    "df['RSI'] = ta.RSI(df['close'].values, timeperiod = 14)\n",
    "macd, macdsignal, macdhist = ta.MACD(df['close'].values, fastperiod = 12, slowperiod = 26, signalperiod = 9)\n",
    "df['MACD'] = macd\n",
    "df['MACDsignal'] = macdsignal\n",
    "df['ClgtEMA10'] = np.where(df['close'] > df['EMA10'], 1, -1)\n",
    "df['EMA10gtEMA30'] = np.where(df['EMA10'] > df['EMA30'], 1, -1)\n",
    "df['MACDSIGgtMACD'] = np.where(df['MACDsignal'] > df['MACD'], 1, -1)\n",
    "df['target_cls'] = np.where(df['return'] > 0, 1, 0)\n",
    "df['target_rgs'] = df['return']\n",
    "df.dropna(inplace = True)\n",
    "#df.drop(['Name'], axis = 1, inplace = True)\n",
    "print(df.head())"
   ]
  },
  {
   "cell_type": "code",
   "execution_count": 62,
   "metadata": {},
   "outputs": [
    {
     "data": {
      "text/html": [
       "<div>\n",
       "<style scoped>\n",
       "    .dataframe tbody tr th:only-of-type {\n",
       "        vertical-align: middle;\n",
       "    }\n",
       "\n",
       "    .dataframe tbody tr th {\n",
       "        vertical-align: top;\n",
       "    }\n",
       "\n",
       "    .dataframe thead th {\n",
       "        text-align: right;\n",
       "    }\n",
       "</style>\n",
       "<table border=\"1\" class=\"dataframe\">\n",
       "  <thead>\n",
       "    <tr style=\"text-align: right;\">\n",
       "      <th></th>\n",
       "      <th>ATR</th>\n",
       "      <th>ADX</th>\n",
       "      <th>RSI</th>\n",
       "      <th>ClgtEMA10</th>\n",
       "      <th>EMA10gtEMA30</th>\n",
       "      <th>MACDSIGgtMACD</th>\n",
       "    </tr>\n",
       "    <tr>\n",
       "      <th>date</th>\n",
       "      <th></th>\n",
       "      <th></th>\n",
       "      <th></th>\n",
       "      <th></th>\n",
       "      <th></th>\n",
       "      <th></th>\n",
       "    </tr>\n",
       "  </thead>\n",
       "  <tbody>\n",
       "    <tr>\n",
       "      <th>2017-07-27</th>\n",
       "      <td>17.729313</td>\n",
       "      <td>24.748665</td>\n",
       "      <td>66.937125</td>\n",
       "      <td>1</td>\n",
       "      <td>1</td>\n",
       "      <td>-1</td>\n",
       "    </tr>\n",
       "    <tr>\n",
       "      <th>2017-07-28</th>\n",
       "      <td>19.677219</td>\n",
       "      <td>24.043752</td>\n",
       "      <td>54.053399</td>\n",
       "      <td>-1</td>\n",
       "      <td>1</td>\n",
       "      <td>-1</td>\n",
       "    </tr>\n",
       "    <tr>\n",
       "      <th>2017-07-31</th>\n",
       "      <td>20.630275</td>\n",
       "      <td>22.688939</td>\n",
       "      <td>42.981941</td>\n",
       "      <td>-1</td>\n",
       "      <td>1</td>\n",
       "      <td>1</td>\n",
       "    </tr>\n",
       "    <tr>\n",
       "      <th>2017-08-01</th>\n",
       "      <td>20.486684</td>\n",
       "      <td>21.430899</td>\n",
       "      <td>46.082418</td>\n",
       "      <td>-1</td>\n",
       "      <td>1</td>\n",
       "      <td>1</td>\n",
       "    </tr>\n",
       "    <tr>\n",
       "      <th>2017-08-02</th>\n",
       "      <td>20.557635</td>\n",
       "      <td>20.026780</td>\n",
       "      <td>45.986355</td>\n",
       "      <td>-1</td>\n",
       "      <td>1</td>\n",
       "      <td>1</td>\n",
       "    </tr>\n",
       "  </tbody>\n",
       "</table>\n",
       "</div>"
      ],
      "text/plain": [
       "                  ATR        ADX        RSI  ClgtEMA10  EMA10gtEMA30  \\\n",
       "date                                                                   \n",
       "2017-07-27  17.729313  24.748665  66.937125          1             1   \n",
       "2017-07-28  19.677219  24.043752  54.053399         -1             1   \n",
       "2017-07-31  20.630275  22.688939  42.981941         -1             1   \n",
       "2017-08-01  20.486684  21.430899  46.082418         -1             1   \n",
       "2017-08-02  20.557635  20.026780  45.986355         -1             1   \n",
       "\n",
       "            MACDSIGgtMACD  \n",
       "date                       \n",
       "2017-07-27             -1  \n",
       "2017-07-28             -1  \n",
       "2017-07-31              1  \n",
       "2017-08-01              1  \n",
       "2017-08-02              1  "
      ]
     },
     "execution_count": 62,
     "metadata": {},
     "output_type": "execute_result"
    }
   ],
   "source": [
    "predictors = ['ATR', 'ADX','RSI', 'ClgtEMA10', 'EMA10gtEMA30', 'MACDSIGgtMACD']\n",
    "X = df[predictors]\n",
    "X.tail()"
   ]
  },
  {
   "cell_type": "code",
   "execution_count": 63,
   "metadata": {},
   "outputs": [],
   "source": [
    "\n",
    "y_cls = df.target_cls\n",
    "y_rgs = df.target_rgs\n"
   ]
  },
  {
   "cell_type": "code",
   "execution_count": 64,
   "metadata": {},
   "outputs": [
    {
     "name": "stdout",
     "output_type": "stream",
     "text": [
      "(652, 6) (652,)\n",
      "(218, 6) (218,)\n"
     ]
    }
   ],
   "source": [
    "from sklearn.model_selection import train_test_split\n",
    "X_cls_train, X_cls_test, y_cls_train, y_cls_test = train_test_split(X, y_cls, test_size = 0.25, random_state = 42, stratify = y_cls)\n",
    "print (X_cls_train.shape, y_cls_train.shape)\n",
    "print (X_cls_test.shape, y_cls_test.shape)"
   ]
  },
  {
   "cell_type": "code",
   "execution_count": 65,
   "metadata": {},
   "outputs": [
    {
     "name": "stdout",
     "output_type": "stream",
     "text": [
      "(652, 6) (652,)\n",
      "(218, 6) (218,)\n"
     ]
    }
   ],
   "source": [
    "train_length = int(len(df)*0.75)\n",
    "X_rgs_train = X[:train_length]\n",
    "X_rgs_test = X[train_length:]\n",
    "y_rgs_train = y_rgs[:train_length]\n",
    "y_rgs_test = y_rgs[train_length:]\n",
    "\n",
    "print (X_rgs_train.shape, y_rgs_train.shape)\n",
    "print (X_rgs_test.shape, y_rgs_test.shape)\n"
   ]
  },
  {
   "cell_type": "code",
   "execution_count": 66,
   "metadata": {},
   "outputs": [
    {
     "data": {
      "text/plain": [
       "DecisionTreeClassifier(class_weight=None, criterion='entropy', max_depth=3,\n",
       "                       max_features=None, max_leaf_nodes=None,\n",
       "                       min_impurity_decrease=0.0, min_impurity_split=None,\n",
       "                       min_samples_leaf=6, min_samples_split=2,\n",
       "                       min_weight_fraction_leaf=0.0, presort=False,\n",
       "                       random_state=None, splitter='best')"
      ]
     },
     "execution_count": 66,
     "metadata": {},
     "output_type": "execute_result"
    }
   ],
   "source": [
    "from sklearn.tree import DecisionTreeClassifier\n",
    "clf = DecisionTreeClassifier(criterion = 'entropy', max_depth = 3, min_samples_leaf = 6)\n",
    "clf"
   ]
  },
  {
   "cell_type": "code",
   "execution_count": 67,
   "metadata": {},
   "outputs": [
    {
     "data": {
      "text/plain": [
       "DecisionTreeClassifier(class_weight=None, criterion='entropy', max_depth=3,\n",
       "                       max_features=None, max_leaf_nodes=None,\n",
       "                       min_impurity_decrease=0.0, min_impurity_split=None,\n",
       "                       min_samples_leaf=6, min_samples_split=2,\n",
       "                       min_weight_fraction_leaf=0.0, presort=False,\n",
       "                       random_state=None, splitter='best')"
      ]
     },
     "execution_count": 67,
     "metadata": {},
     "output_type": "execute_result"
    }
   ],
   "source": [
    "\n",
    "clf = clf.fit(X_cls_train, y_cls_train)\n",
    "clf\n"
   ]
  },
  {
   "cell_type": "code",
   "execution_count": 68,
   "metadata": {},
   "outputs": [
    {
     "data": {
      "image/svg+xml": [
       "<?xml version=\"1.0\" encoding=\"UTF-8\" standalone=\"no\"?>\n",
       "<!DOCTYPE svg PUBLIC \"-//W3C//DTD SVG 1.1//EN\"\n",
       " \"http://www.w3.org/Graphics/SVG/1.1/DTD/svg11.dtd\">\n",
       "<!-- Generated by graphviz version 2.43.0 (0)\n",
       " -->\n",
       "<!-- Title: Tree Pages: 1 -->\n",
       "<svg width=\"976pt\" height=\"358pt\"\n",
       " viewBox=\"0.00 0.00 975.54 358.00\" xmlns=\"http://www.w3.org/2000/svg\" xmlns:xlink=\"http://www.w3.org/1999/xlink\">\n",
       "<g id=\"graph0\" class=\"graph\" transform=\"scale(1 1) rotate(0) translate(4 354)\">\n",
       "<title>Tree</title>\n",
       "<polygon fill=\"white\" stroke=\"transparent\" points=\"-4,4 -4,-354 971.54,-354 971.54,4 -4,4\"/>\n",
       "<!-- 0 -->\n",
       "<g id=\"node1\" class=\"node\">\n",
       "<title>0</title>\n",
       "<polygon fill=\"#ddeefa\" stroke=\"black\" points=\"526.31,-350 407.23,-350 407.23,-286 526.31,-286 526.31,-350\"/>\n",
       "<text text-anchor=\"middle\" x=\"466.77\" y=\"-334.8\" font-family=\"Times,serif\" font-size=\"14.00\">ATR &lt;= 12.085</text>\n",
       "<text text-anchor=\"middle\" x=\"466.77\" y=\"-320.8\" font-family=\"Times,serif\" font-size=\"14.00\">entropy = 0.993</text>\n",
       "<text text-anchor=\"middle\" x=\"466.77\" y=\"-306.8\" font-family=\"Times,serif\" font-size=\"14.00\">samples = 652</text>\n",
       "<text text-anchor=\"middle\" x=\"466.77\" y=\"-292.8\" font-family=\"Times,serif\" font-size=\"14.00\">value = [295, 357]</text>\n",
       "</g>\n",
       "<!-- 1 -->\n",
       "<g id=\"node2\" class=\"node\">\n",
       "<title>1</title>\n",
       "<polygon fill=\"#fdfeff\" stroke=\"black\" points=\"447.31,-250 328.23,-250 328.23,-186 447.31,-186 447.31,-250\"/>\n",
       "<text text-anchor=\"middle\" x=\"387.77\" y=\"-234.8\" font-family=\"Times,serif\" font-size=\"14.00\">ADX &lt;= 36.419</text>\n",
       "<text text-anchor=\"middle\" x=\"387.77\" y=\"-220.8\" font-family=\"Times,serif\" font-size=\"14.00\">entropy = 1.0</text>\n",
       "<text text-anchor=\"middle\" x=\"387.77\" y=\"-206.8\" font-family=\"Times,serif\" font-size=\"14.00\">samples = 370</text>\n",
       "<text text-anchor=\"middle\" x=\"387.77\" y=\"-192.8\" font-family=\"Times,serif\" font-size=\"14.00\">value = [184, 186]</text>\n",
       "</g>\n",
       "<!-- 0&#45;&gt;1 -->\n",
       "<g id=\"edge1\" class=\"edge\">\n",
       "<title>0&#45;&gt;1</title>\n",
       "<path fill=\"none\" stroke=\"black\" d=\"M441.77,-285.99C434.64,-277.14 426.78,-267.39 419.31,-258.12\"/>\n",
       "<polygon fill=\"black\" stroke=\"black\" points=\"421.87,-255.73 412.87,-250.14 416.42,-260.12 421.87,-255.73\"/>\n",
       "<text text-anchor=\"middle\" x=\"410.2\" y=\"-270.8\" font-family=\"Times,serif\" font-size=\"14.00\">True</text>\n",
       "</g>\n",
       "<!-- 8 -->\n",
       "<g id=\"node9\" class=\"node\">\n",
       "<title>8</title>\n",
       "<polygon fill=\"#baddf6\" stroke=\"black\" points=\"637.78,-250 519.76,-250 519.76,-186 637.78,-186 637.78,-250\"/>\n",
       "<text text-anchor=\"middle\" x=\"578.77\" y=\"-234.8\" font-family=\"Times,serif\" font-size=\"14.00\">ATR &lt;= 13.405</text>\n",
       "<text text-anchor=\"middle\" x=\"578.77\" y=\"-220.8\" font-family=\"Times,serif\" font-size=\"14.00\">entropy = 0.967</text>\n",
       "<text text-anchor=\"middle\" x=\"578.77\" y=\"-206.8\" font-family=\"Times,serif\" font-size=\"14.00\">samples = 282</text>\n",
       "<text text-anchor=\"middle\" x=\"578.77\" y=\"-192.8\" font-family=\"Times,serif\" font-size=\"14.00\">value = [111, 171]</text>\n",
       "</g>\n",
       "<!-- 0&#45;&gt;8 -->\n",
       "<g id=\"edge8\" class=\"edge\">\n",
       "<title>0&#45;&gt;8</title>\n",
       "<path fill=\"none\" stroke=\"black\" d=\"M502.21,-285.99C512.73,-276.79 524.37,-266.6 535.34,-257\"/>\n",
       "<polygon fill=\"black\" stroke=\"black\" points=\"537.96,-259.36 543.18,-250.14 533.35,-254.09 537.96,-259.36\"/>\n",
       "<text text-anchor=\"middle\" x=\"541.51\" y=\"-270.89\" font-family=\"Times,serif\" font-size=\"14.00\">False</text>\n",
       "</g>\n",
       "<!-- 2 -->\n",
       "<g id=\"node3\" class=\"node\">\n",
       "<title>2</title>\n",
       "<polygon fill=\"#ecf6fd\" stroke=\"black\" points=\"249.31,-150 130.23,-150 130.23,-86 249.31,-86 249.31,-150\"/>\n",
       "<text text-anchor=\"middle\" x=\"189.77\" y=\"-134.8\" font-family=\"Times,serif\" font-size=\"14.00\">ADX &lt;= 34.11</text>\n",
       "<text text-anchor=\"middle\" x=\"189.77\" y=\"-120.8\" font-family=\"Times,serif\" font-size=\"14.00\">entropy = 0.998</text>\n",
       "<text text-anchor=\"middle\" x=\"189.77\" y=\"-106.8\" font-family=\"Times,serif\" font-size=\"14.00\">samples = 343</text>\n",
       "<text text-anchor=\"middle\" x=\"189.77\" y=\"-92.8\" font-family=\"Times,serif\" font-size=\"14.00\">value = [163, 180]</text>\n",
       "</g>\n",
       "<!-- 1&#45;&gt;2 -->\n",
       "<g id=\"edge2\" class=\"edge\">\n",
       "<title>1&#45;&gt;2</title>\n",
       "<path fill=\"none\" stroke=\"black\" d=\"M328.09,-187.46C306.18,-176.62 281.19,-164.25 258.54,-153.04\"/>\n",
       "<polygon fill=\"black\" stroke=\"black\" points=\"259.84,-149.77 249.32,-148.48 256.73,-156.05 259.84,-149.77\"/>\n",
       "</g>\n",
       "<!-- 5 -->\n",
       "<g id=\"node6\" class=\"node\">\n",
       "<title>5</title>\n",
       "<polygon fill=\"#eca572\" stroke=\"black\" points=\"441.39,-150 334.15,-150 334.15,-86 441.39,-86 441.39,-150\"/>\n",
       "<text text-anchor=\"middle\" x=\"387.77\" y=\"-134.8\" font-family=\"Times,serif\" font-size=\"14.00\">ADX &lt;= 38.958</text>\n",
       "<text text-anchor=\"middle\" x=\"387.77\" y=\"-120.8\" font-family=\"Times,serif\" font-size=\"14.00\">entropy = 0.764</text>\n",
       "<text text-anchor=\"middle\" x=\"387.77\" y=\"-106.8\" font-family=\"Times,serif\" font-size=\"14.00\">samples = 27</text>\n",
       "<text text-anchor=\"middle\" x=\"387.77\" y=\"-92.8\" font-family=\"Times,serif\" font-size=\"14.00\">value = [21, 6]</text>\n",
       "</g>\n",
       "<!-- 1&#45;&gt;5 -->\n",
       "<g id=\"edge5\" class=\"edge\">\n",
       "<title>1&#45;&gt;5</title>\n",
       "<path fill=\"none\" stroke=\"black\" d=\"M387.77,-185.99C387.77,-177.86 387.77,-168.96 387.77,-160.38\"/>\n",
       "<polygon fill=\"black\" stroke=\"black\" points=\"391.27,-160.14 387.77,-150.14 384.27,-160.14 391.27,-160.14\"/>\n",
       "</g>\n",
       "<!-- 3 -->\n",
       "<g id=\"node4\" class=\"node\">\n",
       "<title>3</title>\n",
       "<polygon fill=\"#f4fafe\" stroke=\"black\" points=\"119.31,-50 0.23,-50 0.23,0 119.31,0 119.31,-50\"/>\n",
       "<text text-anchor=\"middle\" x=\"59.77\" y=\"-34.8\" font-family=\"Times,serif\" font-size=\"14.00\">entropy = 0.999</text>\n",
       "<text text-anchor=\"middle\" x=\"59.77\" y=\"-20.8\" font-family=\"Times,serif\" font-size=\"14.00\">samples = 327</text>\n",
       "<text text-anchor=\"middle\" x=\"59.77\" y=\"-6.8\" font-family=\"Times,serif\" font-size=\"14.00\">value = [159, 168]</text>\n",
       "</g>\n",
       "<!-- 2&#45;&gt;3 -->\n",
       "<g id=\"edge3\" class=\"edge\">\n",
       "<title>2&#45;&gt;3</title>\n",
       "<path fill=\"none\" stroke=\"black\" d=\"M145.39,-85.94C131.51,-76.22 116.22,-65.51 102.45,-55.88\"/>\n",
       "<polygon fill=\"black\" stroke=\"black\" points=\"104.3,-52.9 94.1,-50.03 100.28,-58.63 104.3,-52.9\"/>\n",
       "</g>\n",
       "<!-- 4 -->\n",
       "<g id=\"node5\" class=\"node\">\n",
       "<title>4</title>\n",
       "<polygon fill=\"#7bbeee\" stroke=\"black\" points=\"241.92,-50 137.62,-50 137.62,0 241.92,0 241.92,-50\"/>\n",
       "<text text-anchor=\"middle\" x=\"189.77\" y=\"-34.8\" font-family=\"Times,serif\" font-size=\"14.00\">entropy = 0.811</text>\n",
       "<text text-anchor=\"middle\" x=\"189.77\" y=\"-20.8\" font-family=\"Times,serif\" font-size=\"14.00\">samples = 16</text>\n",
       "<text text-anchor=\"middle\" x=\"189.77\" y=\"-6.8\" font-family=\"Times,serif\" font-size=\"14.00\">value = [4, 12]</text>\n",
       "</g>\n",
       "<!-- 2&#45;&gt;4 -->\n",
       "<g id=\"edge4\" class=\"edge\">\n",
       "<title>2&#45;&gt;4</title>\n",
       "<path fill=\"none\" stroke=\"black\" d=\"M189.77,-85.94C189.77,-77.68 189.77,-68.72 189.77,-60.31\"/>\n",
       "<polygon fill=\"black\" stroke=\"black\" points=\"193.27,-60.03 189.77,-50.03 186.27,-60.03 193.27,-60.03\"/>\n",
       "</g>\n",
       "<!-- 6 -->\n",
       "<g id=\"node7\" class=\"node\">\n",
       "<title>6</title>\n",
       "<polygon fill=\"#e58139\" stroke=\"black\" points=\"351.31,-50 260.23,-50 260.23,0 351.31,0 351.31,-50\"/>\n",
       "<text text-anchor=\"middle\" x=\"305.77\" y=\"-34.8\" font-family=\"Times,serif\" font-size=\"14.00\">entropy = 0.0</text>\n",
       "<text text-anchor=\"middle\" x=\"305.77\" y=\"-20.8\" font-family=\"Times,serif\" font-size=\"14.00\">samples = 6</text>\n",
       "<text text-anchor=\"middle\" x=\"305.77\" y=\"-6.8\" font-family=\"Times,serif\" font-size=\"14.00\">value = [6, 0]</text>\n",
       "</g>\n",
       "<!-- 5&#45;&gt;6 -->\n",
       "<g id=\"edge6\" class=\"edge\">\n",
       "<title>5&#45;&gt;6</title>\n",
       "<path fill=\"none\" stroke=\"black\" d=\"M359.78,-85.94C351.51,-76.77 342.46,-66.72 334.17,-57.52\"/>\n",
       "<polygon fill=\"black\" stroke=\"black\" points=\"336.72,-55.12 327.42,-50.03 331.52,-59.8 336.72,-55.12\"/>\n",
       "</g>\n",
       "<!-- 7 -->\n",
       "<g id=\"node8\" class=\"node\">\n",
       "<title>7</title>\n",
       "<polygon fill=\"#efb388\" stroke=\"black\" points=\"474.43,-50 369.11,-50 369.11,0 474.43,0 474.43,-50\"/>\n",
       "<text text-anchor=\"middle\" x=\"421.77\" y=\"-34.8\" font-family=\"Times,serif\" font-size=\"14.00\">entropy = 0.863</text>\n",
       "<text text-anchor=\"middle\" x=\"421.77\" y=\"-20.8\" font-family=\"Times,serif\" font-size=\"14.00\">samples = 21</text>\n",
       "<text text-anchor=\"middle\" x=\"421.77\" y=\"-6.8\" font-family=\"Times,serif\" font-size=\"14.00\">value = [15, 6]</text>\n",
       "</g>\n",
       "<!-- 5&#45;&gt;7 -->\n",
       "<g id=\"edge7\" class=\"edge\">\n",
       "<title>5&#45;&gt;7</title>\n",
       "<path fill=\"none\" stroke=\"black\" d=\"M399.37,-85.94C402.56,-77.41 406.03,-68.12 409.26,-59.47\"/>\n",
       "<polygon fill=\"black\" stroke=\"black\" points=\"412.57,-60.62 412.79,-50.03 406.01,-58.17 412.57,-60.62\"/>\n",
       "</g>\n",
       "<!-- 9 -->\n",
       "<g id=\"node10\" class=\"node\">\n",
       "<title>9</title>\n",
       "<polygon fill=\"#7abdee\" stroke=\"black\" points=\"665.52,-150 492.02,-150 492.02,-86 665.52,-86 665.52,-150\"/>\n",
       "<text text-anchor=\"middle\" x=\"578.77\" y=\"-134.8\" font-family=\"Times,serif\" font-size=\"14.00\">MACDSIGgtMACD &lt;= 0.0</text>\n",
       "<text text-anchor=\"middle\" x=\"578.77\" y=\"-120.8\" font-family=\"Times,serif\" font-size=\"14.00\">entropy = 0.806</text>\n",
       "<text text-anchor=\"middle\" x=\"578.77\" y=\"-106.8\" font-family=\"Times,serif\" font-size=\"14.00\">samples = 77</text>\n",
       "<text text-anchor=\"middle\" x=\"578.77\" y=\"-92.8\" font-family=\"Times,serif\" font-size=\"14.00\">value = [19, 58]</text>\n",
       "</g>\n",
       "<!-- 8&#45;&gt;9 -->\n",
       "<g id=\"edge9\" class=\"edge\">\n",
       "<title>8&#45;&gt;9</title>\n",
       "<path fill=\"none\" stroke=\"black\" d=\"M578.77,-185.99C578.77,-177.86 578.77,-168.96 578.77,-160.38\"/>\n",
       "<polygon fill=\"black\" stroke=\"black\" points=\"582.27,-160.14 578.77,-150.14 575.27,-160.14 582.27,-160.14\"/>\n",
       "</g>\n",
       "<!-- 12 -->\n",
       "<g id=\"node13\" class=\"node\">\n",
       "<title>12</title>\n",
       "<polygon fill=\"#daedfa\" stroke=\"black\" points=\"846.79,-150 734.74,-150 734.74,-86 846.79,-86 846.79,-150\"/>\n",
       "<text text-anchor=\"middle\" x=\"790.77\" y=\"-134.8\" font-family=\"Times,serif\" font-size=\"14.00\">ATR &lt;= 15.118</text>\n",
       "<text text-anchor=\"middle\" x=\"790.77\" y=\"-120.8\" font-family=\"Times,serif\" font-size=\"14.00\">entropy = 0.992</text>\n",
       "<text text-anchor=\"middle\" x=\"790.77\" y=\"-106.8\" font-family=\"Times,serif\" font-size=\"14.00\">samples = 205</text>\n",
       "<text text-anchor=\"middle\" x=\"790.77\" y=\"-92.8\" font-family=\"Times,serif\" font-size=\"14.00\">value = [92, 113]</text>\n",
       "</g>\n",
       "<!-- 8&#45;&gt;12 -->\n",
       "<g id=\"edge12\" class=\"edge\">\n",
       "<title>8&#45;&gt;12</title>\n",
       "<path fill=\"none\" stroke=\"black\" d=\"M637.82,-189.7C665.01,-177.13 697.36,-162.18 725.3,-149.27\"/>\n",
       "<polygon fill=\"black\" stroke=\"black\" points=\"726.98,-152.34 734.58,-144.97 724.04,-145.99 726.98,-152.34\"/>\n",
       "</g>\n",
       "<!-- 10 -->\n",
       "<g id=\"node11\" class=\"node\">\n",
       "<title>10</title>\n",
       "<polygon fill=\"#9fd0f2\" stroke=\"black\" points=\"597.31,-50 492.23,-50 492.23,0 597.31,0 597.31,-50\"/>\n",
       "<text text-anchor=\"middle\" x=\"544.77\" y=\"-34.8\" font-family=\"Times,serif\" font-size=\"14.00\">entropy = 0.925</text>\n",
       "<text text-anchor=\"middle\" x=\"544.77\" y=\"-20.8\" font-family=\"Times,serif\" font-size=\"14.00\">samples = 47</text>\n",
       "<text text-anchor=\"middle\" x=\"544.77\" y=\"-6.8\" font-family=\"Times,serif\" font-size=\"14.00\">value = [16, 31]</text>\n",
       "</g>\n",
       "<!-- 9&#45;&gt;10 -->\n",
       "<g id=\"edge10\" class=\"edge\">\n",
       "<title>9&#45;&gt;10</title>\n",
       "<path fill=\"none\" stroke=\"black\" d=\"M567.16,-85.94C563.98,-77.41 560.51,-68.12 557.27,-59.47\"/>\n",
       "<polygon fill=\"black\" stroke=\"black\" points=\"560.53,-58.17 553.75,-50.03 553.97,-60.62 560.53,-58.17\"/>\n",
       "</g>\n",
       "<!-- 11 -->\n",
       "<g id=\"node12\" class=\"node\">\n",
       "<title>11</title>\n",
       "<polygon fill=\"#4fa8e8\" stroke=\"black\" points=\"720.43,-50 615.11,-50 615.11,0 720.43,0 720.43,-50\"/>\n",
       "<text text-anchor=\"middle\" x=\"667.77\" y=\"-34.8\" font-family=\"Times,serif\" font-size=\"14.00\">entropy = 0.469</text>\n",
       "<text text-anchor=\"middle\" x=\"667.77\" y=\"-20.8\" font-family=\"Times,serif\" font-size=\"14.00\">samples = 30</text>\n",
       "<text text-anchor=\"middle\" x=\"667.77\" y=\"-6.8\" font-family=\"Times,serif\" font-size=\"14.00\">value = [3, 27]</text>\n",
       "</g>\n",
       "<!-- 9&#45;&gt;11 -->\n",
       "<g id=\"edge11\" class=\"edge\">\n",
       "<title>9&#45;&gt;11</title>\n",
       "<path fill=\"none\" stroke=\"black\" d=\"M609.15,-85.94C618.21,-76.67 628.14,-66.52 637.21,-57.25\"/>\n",
       "<polygon fill=\"black\" stroke=\"black\" points=\"639.78,-59.63 644.27,-50.03 634.77,-54.73 639.78,-59.63\"/>\n",
       "</g>\n",
       "<!-- 13 -->\n",
       "<g id=\"node14\" class=\"node\">\n",
       "<title>13</title>\n",
       "<polygon fill=\"#f4c8a8\" stroke=\"black\" points=\"843.31,-50 738.23,-50 738.23,0 843.31,0 843.31,-50\"/>\n",
       "<text text-anchor=\"middle\" x=\"790.77\" y=\"-34.8\" font-family=\"Times,serif\" font-size=\"14.00\">entropy = 0.943</text>\n",
       "<text text-anchor=\"middle\" x=\"790.77\" y=\"-20.8\" font-family=\"Times,serif\" font-size=\"14.00\">samples = 50</text>\n",
       "<text text-anchor=\"middle\" x=\"790.77\" y=\"-6.8\" font-family=\"Times,serif\" font-size=\"14.00\">value = [32, 18]</text>\n",
       "</g>\n",
       "<!-- 12&#45;&gt;13 -->\n",
       "<g id=\"edge13\" class=\"edge\">\n",
       "<title>12&#45;&gt;13</title>\n",
       "<path fill=\"none\" stroke=\"black\" d=\"M790.77,-85.94C790.77,-77.68 790.77,-68.72 790.77,-60.31\"/>\n",
       "<polygon fill=\"black\" stroke=\"black\" points=\"794.27,-60.03 790.77,-50.03 787.27,-60.03 794.27,-60.03\"/>\n",
       "</g>\n",
       "<!-- 14 -->\n",
       "<g id=\"node15\" class=\"node\">\n",
       "<title>14</title>\n",
       "<polygon fill=\"#b6dbf5\" stroke=\"black\" points=\"967.31,-50 862.23,-50 862.23,0 967.31,0 967.31,-50\"/>\n",
       "<text text-anchor=\"middle\" x=\"914.77\" y=\"-34.8\" font-family=\"Times,serif\" font-size=\"14.00\">entropy = 0.963</text>\n",
       "<text text-anchor=\"middle\" x=\"914.77\" y=\"-20.8\" font-family=\"Times,serif\" font-size=\"14.00\">samples = 155</text>\n",
       "<text text-anchor=\"middle\" x=\"914.77\" y=\"-6.8\" font-family=\"Times,serif\" font-size=\"14.00\">value = [60, 95]</text>\n",
       "</g>\n",
       "<!-- 12&#45;&gt;14 -->\n",
       "<g id=\"edge14\" class=\"edge\">\n",
       "<title>12&#45;&gt;14</title>\n",
       "<path fill=\"none\" stroke=\"black\" d=\"M833.1,-85.94C846.22,-76.31 860.65,-65.72 873.69,-56.15\"/>\n",
       "<polygon fill=\"black\" stroke=\"black\" points=\"876.03,-58.77 882.02,-50.03 871.89,-53.12 876.03,-58.77\"/>\n",
       "</g>\n",
       "</g>\n",
       "</svg>\n"
      ],
      "text/plain": [
       "<graphviz.files.Source at 0x124882940>"
      ]
     },
     "execution_count": 68,
     "metadata": {},
     "output_type": "execute_result"
    }
   ],
   "source": [
    "from sklearn import tree\n",
    "import graphviz\n",
    "dot_data = tree.export_graphviz(clf, out_file=None,filled=True,feature_names=predictors)\n",
    "#print(dot_data)\n",
    "graphviz.Source(dot_data)"
   ]
  },
  {
   "cell_type": "code",
   "execution_count": 69,
   "metadata": {},
   "outputs": [],
   "source": [
    "\n",
    "from sklearn.tree import DecisionTreeRegressor\n",
    "dtr = DecisionTreeRegressor(min_samples_leaf = 200)"
   ]
  },
  {
   "cell_type": "code",
   "execution_count": 70,
   "metadata": {},
   "outputs": [
    {
     "data": {
      "text/plain": [
       "DecisionTreeRegressor(criterion='mse', max_depth=None, max_features=None,\n",
       "                      max_leaf_nodes=None, min_impurity_decrease=0.0,\n",
       "                      min_impurity_split=None, min_samples_leaf=200,\n",
       "                      min_samples_split=2, min_weight_fraction_leaf=0.0,\n",
       "                      presort=False, random_state=None, splitter='best')"
      ]
     },
     "execution_count": 70,
     "metadata": {},
     "output_type": "execute_result"
    }
   ],
   "source": [
    "dtr.fit(X_rgs_train, y_rgs_train)\n"
   ]
  },
  {
   "cell_type": "code",
   "execution_count": 71,
   "metadata": {},
   "outputs": [
    {
     "data": {
      "image/svg+xml": [
       "<?xml version=\"1.0\" encoding=\"UTF-8\" standalone=\"no\"?>\n",
       "<!DOCTYPE svg PUBLIC \"-//W3C//DTD SVG 1.1//EN\"\n",
       " \"http://www.w3.org/Graphics/SVG/1.1/DTD/svg11.dtd\">\n",
       "<!-- Generated by graphviz version 2.43.0 (0)\n",
       " -->\n",
       "<!-- Title: Tree Pages: 1 -->\n",
       "<svg width=\"222pt\" height=\"158pt\"\n",
       " viewBox=\"0.00 0.00 221.72 158.00\" xmlns=\"http://www.w3.org/2000/svg\" xmlns:xlink=\"http://www.w3.org/1999/xlink\">\n",
       "<g id=\"graph0\" class=\"graph\" transform=\"scale(1 1) rotate(0) translate(4 154)\">\n",
       "<title>Tree</title>\n",
       "<polygon fill=\"white\" stroke=\"transparent\" points=\"-4,4 -4,-154 217.72,-154 217.72,4 -4,4\"/>\n",
       "<!-- 0 -->\n",
       "<g id=\"node1\" class=\"node\">\n",
       "<title>0</title>\n",
       "<polygon fill=\"#f4caac\" stroke=\"black\" points=\"160.12,-150 52.88,-150 52.88,-86 160.12,-86 160.12,-150\"/>\n",
       "<text text-anchor=\"middle\" x=\"106.5\" y=\"-134.8\" font-family=\"Times,serif\" font-size=\"14.00\">ADX &lt;= 22.853</text>\n",
       "<text text-anchor=\"middle\" x=\"106.5\" y=\"-120.8\" font-family=\"Times,serif\" font-size=\"14.00\">mse = 101.434</text>\n",
       "<text text-anchor=\"middle\" x=\"106.5\" y=\"-106.8\" font-family=\"Times,serif\" font-size=\"14.00\">samples = 652</text>\n",
       "<text text-anchor=\"middle\" x=\"106.5\" y=\"-92.8\" font-family=\"Times,serif\" font-size=\"14.00\">value = 0.678</text>\n",
       "</g>\n",
       "<!-- 1 -->\n",
       "<g id=\"node2\" class=\"node\">\n",
       "<title>1</title>\n",
       "<polygon fill=\"#e58139\" stroke=\"black\" points=\"97,-50 0,-50 0,0 97,0 97,-50\"/>\n",
       "<text text-anchor=\"middle\" x=\"48.5\" y=\"-34.8\" font-family=\"Times,serif\" font-size=\"14.00\">mse = 84.561</text>\n",
       "<text text-anchor=\"middle\" x=\"48.5\" y=\"-20.8\" font-family=\"Times,serif\" font-size=\"14.00\">samples = 272</text>\n",
       "<text text-anchor=\"middle\" x=\"48.5\" y=\"-6.8\" font-family=\"Times,serif\" font-size=\"14.00\">value = 1.472</text>\n",
       "</g>\n",
       "<!-- 0&#45;&gt;1 -->\n",
       "<g id=\"edge1\" class=\"edge\">\n",
       "<title>0&#45;&gt;1</title>\n",
       "<path fill=\"none\" stroke=\"black\" d=\"M86.7,-85.94C81.09,-77.13 74.97,-67.52 69.3,-58.63\"/>\n",
       "<polygon fill=\"black\" stroke=\"black\" points=\"72.14,-56.58 63.82,-50.03 66.24,-60.34 72.14,-56.58\"/>\n",
       "<text text-anchor=\"middle\" x=\"58.41\" y=\"-70.24\" font-family=\"Times,serif\" font-size=\"14.00\">True</text>\n",
       "</g>\n",
       "<!-- 2 -->\n",
       "<g id=\"node3\" class=\"node\">\n",
       "<title>2</title>\n",
       "<polygon fill=\"#ffffff\" stroke=\"black\" points=\"213.94,-50 115.06,-50 115.06,0 213.94,0 213.94,-50\"/>\n",
       "<text text-anchor=\"middle\" x=\"164.5\" y=\"-34.8\" font-family=\"Times,serif\" font-size=\"14.00\">mse = 112.736</text>\n",
       "<text text-anchor=\"middle\" x=\"164.5\" y=\"-20.8\" font-family=\"Times,serif\" font-size=\"14.00\">samples = 380</text>\n",
       "<text text-anchor=\"middle\" x=\"164.5\" y=\"-6.8\" font-family=\"Times,serif\" font-size=\"14.00\">value = 0.109</text>\n",
       "</g>\n",
       "<!-- 0&#45;&gt;2 -->\n",
       "<g id=\"edge2\" class=\"edge\">\n",
       "<title>0&#45;&gt;2</title>\n",
       "<path fill=\"none\" stroke=\"black\" d=\"M126.3,-85.94C131.91,-77.13 138.03,-67.52 143.7,-58.63\"/>\n",
       "<polygon fill=\"black\" stroke=\"black\" points=\"146.76,-60.34 149.18,-50.03 140.86,-56.58 146.76,-60.34\"/>\n",
       "<text text-anchor=\"middle\" x=\"154.59\" y=\"-70.24\" font-family=\"Times,serif\" font-size=\"14.00\">False</text>\n",
       "</g>\n",
       "</g>\n",
       "</svg>\n"
      ],
      "text/plain": [
       "<graphviz.files.Source at 0x124882f60>"
      ]
     },
     "execution_count": 71,
     "metadata": {},
     "output_type": "execute_result"
    }
   ],
   "source": [
    "dot_data = tree.export_graphviz(dtr, out_file = None, filled = True, feature_names=predictors)\n",
    "graphviz.Source(dot_data)"
   ]
  },
  {
   "cell_type": "code",
   "execution_count": null,
   "metadata": {},
   "outputs": [],
   "source": []
  },
  {
   "cell_type": "code",
   "execution_count": null,
   "metadata": {},
   "outputs": [],
   "source": []
  },
  {
   "cell_type": "code",
   "execution_count": null,
   "metadata": {},
   "outputs": [],
   "source": []
  }
 ],
 "metadata": {
  "kernelspec": {
   "display_name": "Python 3",
   "language": "python",
   "name": "python3"
  },
  "language_info": {
   "codemirror_mode": {
    "name": "ipython",
    "version": 3
   },
   "file_extension": ".py",
   "mimetype": "text/x-python",
   "name": "python",
   "nbconvert_exporter": "python",
   "pygments_lexer": "ipython3",
   "version": "3.6.8"
  }
 },
 "nbformat": 4,
 "nbformat_minor": 2
}
