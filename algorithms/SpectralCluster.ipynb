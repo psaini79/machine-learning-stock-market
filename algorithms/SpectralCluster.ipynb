{
 "cells": [
  {
   "cell_type": "code",
   "execution_count": null,
   "metadata": {},
   "outputs": [],
   "source": [
    "import pandas as pd\n",
    "import matplotlib.pyplot as plt\n",
    "import quandl\n",
    "import numpy as np\n",
    "from sklearn.cluster import SpectralClustering \n",
    "from sklearn.preprocessing import StandardScaler, normalize \n",
    "from sklearn.decomposition import PCA \n",
    "from sklearn.metrics import silhouette_score\n",
    "from math import sqrt"
   ]
  },
  {
   "cell_type": "code",
   "execution_count": null,
   "metadata": {},
   "outputs": [],
   "source": [
    "prices_df = pd.read_csv(\"C:\\k.v.singh\\SJSU\\Fall_2019\\CMPE257\\machine-learning-stock-market\\one_year_data.csv\", index_col=[0], parse_dates=[0])\n",
    "returns = prices_df.pct_change().mean() * 252\n",
    "returns = pd.DataFrame(returns)\n",
    "#print(returns)\n",
    "returns.columns = ['Returns']\n",
    "print (returns.columns)\n",
    "returns['Volatility'] = prices_df.pct_change().std() * sqrt(252)\n",
    "data = np.asarray([np.asarray(returns['Returns']),np.asarray(returns['Volatility'])]).T\n",
    "#removing NaN values, replacing them by 0\n",
    "cleaned_data = np.where(np.isnan(data), 0, data)"
   ]
  },
  {
   "cell_type": "code",
   "execution_count": null,
   "metadata": {},
   "outputs": [],
   "source": [
    "scaler = StandardScaler() \n",
    "X_scaled = scaler.fit_transform(cleaned_data) \n",
    "\n",
    "#print(X_scaled)\n",
    "X_normalized = normalize(X_scaled) \n",
    "X_normalized = pd.DataFrame(X_normalized) \n",
    "  \n",
    "# Reducing the dimensions of the data \n",
    "pca = PCA(n_components = 2) \n",
    "X_principal = pca.fit_transform(X_normalized) \n",
    "X_principal = pd.DataFrame(X_principal) \n",
    "X_principal.columns = ['P1', 'P2'] \n",
    "  \n",
    "X_principal.head() "
   ]
  },
  {
   "cell_type": "code",
   "execution_count": null,
   "metadata": {},
   "outputs": [],
   "source": [
    "#Building the cluster model\n",
    "spectral_model_rbf = SpectralClustering(n_clusters = 2, affinity ='rbf') \n",
    "  \n",
    "# Training the model and Storing the predicted cluster labels \n",
    "labels_rbf = spectral_model_rbf.fit_predict(X_principal) \n",
    "# Building the label to colour mapping \n",
    "colours = {} \n",
    "colours[0] = 'b'\n",
    "colours[1] = 'y'\n",
    "  \n",
    "# Building the colour vector for each data point \n",
    "cvec = [colours[label] for label in labels_rbf] \n",
    "  \n",
    "# Plotting the clustered scatter plot \n",
    "  \n",
    "b = plt.scatter(X_principal['P1'], X_principal['P2'], color ='b'); \n",
    "y = plt.scatter(X_principal['P1'], X_principal['P2'], color ='y'); \n",
    "  \n",
    "plt.figure(figsize =(6, 6)) \n",
    "plt.scatter(X_principal['P1'], X_principal['P2'], c = cvec) \n",
    "plt.legend((b,y), ('Label 0', 'Label 1')) \n",
    "#plt.gca().legend(('Label 0', 'Label 1')) \n",
    "#plt.show() "
   ]
  },
  {
   "cell_type": "code",
   "execution_count": null,
   "metadata": {},
   "outputs": [],
   "source": [
    "# Building the clustering model \n",
    "spectral_model_nn = SpectralClustering(n_clusters = 2, affinity ='nearest_neighbors') \n",
    "  \n",
    "# Training the model and Storing the predicted cluster labels \n",
    "labels_nn = spectral_model_nn.fit_predict(X_principal) \n",
    "\n",
    "# Building the label to colour mapping \n",
    "colours = {} \n",
    "colours[0] = 'g'\n",
    "colours[1] = 'r'\n",
    "  \n",
    "# Building the colour vector for each data point \n",
    "cvec = [colours[label] for label in labels_nn] \n",
    "  \n",
    "# Plotting the clustered scatter plot \n",
    "  \n",
    "b = plt.scatter(X_principal['P1'], X_principal['P2'], color ='g'); \n",
    "#y = plt.scatter(X_principal['P1'], X_principal['P2'], color ='r'); \n",
    "  \n",
    "plt.figure(figsize =(6, 6)) \n",
    "plt.scatter(X_principal['P1'], X_principal['P2'], c = cvec) \n",
    "plt.legend((b, y), ('Label 0', 'Label 1')) \n",
    "plt.show() "
   ]
  },
  {
   "cell_type": "code",
   "execution_count": null,
   "metadata": {},
   "outputs": [],
   "source": [
    "# List of different values of affinity \n",
    "affinity = ['rbf', 'nearest-neighbours'] \n",
    "  \n",
    "# List of Silhouette Scores \n",
    "s_scores = [] \n",
    "  \n",
    "# Evaluating the performance \n",
    "s_scores.append(silhouette_score(cleaned_data, labels_rbf)) \n",
    "s_scores.append(silhouette_score(cleaned_data, labels_nn)) \n",
    "  \n",
    "print(s_scores) "
   ]
  },
  {
   "cell_type": "code",
   "execution_count": null,
   "metadata": {},
   "outputs": [],
   "source": [
    "# Plotting a Bar Graph to compare the models \n",
    "plt.bar(affinity, s_scores) \n",
    "plt.xlabel('Affinity') \n",
    "plt.ylabel('Silhouette Score') \n",
    "plt.title('Comparison of different Clustering Models') \n",
    "plt.show() "
   ]
  },
  {
   "cell_type": "code",
   "execution_count": null,
   "metadata": {},
   "outputs": [],
   "source": []
  }
 ],
 "metadata": {
  "kernelspec": {
   "display_name": "Python 3",
   "language": "python",
   "name": "python3"
  },
  "language_info": {
   "codemirror_mode": {
    "name": "ipython",
    "version": 3
   },
   "file_extension": ".py",
   "mimetype": "text/x-python",
   "name": "python",
   "nbconvert_exporter": "python",
   "pygments_lexer": "ipython3",
   "version": "3.7.3"
  }
 },
 "nbformat": 4,
 "nbformat_minor": 2
}
