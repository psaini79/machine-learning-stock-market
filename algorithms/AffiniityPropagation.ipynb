{
 "cells": [
  {
   "cell_type": "code",
   "execution_count": null,
   "metadata": {},
   "outputs": [],
   "source": [
    "import pandas as pd\n",
    "import matplotlib.pyplot as plt\n",
    "import quandl\n",
    "import numpy as np\n",
    "import tensorflow as tf\n",
    "from matplotlib import gridspec \n",
    "from sklearn.cluster import AffinityPropagation \n",
    "from sklearn import metrics\n",
    "from math import sqrt\n",
    "from sklearn.datasets.samples_generator import make_blobs \n",
    "from scipy.spatial.distance import pdist"
   ]
  },
  {
   "cell_type": "code",
   "execution_count": null,
   "metadata": {},
   "outputs": [],
   "source": [
    "data_frame = pd.read_csv(\"../one_year_data.csv\")\n",
    "data_frame = data_frame.iloc[:, 1:492]"
   ]
  },
  {
   "cell_type": "code",
   "execution_count": null,
   "metadata": {
    "scrolled": true
   },
   "outputs": [],
   "source": [
    "#Calculate average annual percentage return and volatilities over a theoretical one year period\n",
    "returns = data_frame.pct_change().mean() * 252\n",
    "returns = pd.DataFrame(returns)\n",
    "returns.columns = ['Returns']\n",
    "returns['Volatility'] = data_frame.pct_change().std() * sqrt(252)\n",
    "#print(returns['Volatility'])\n",
    "#format the data as a numpy array to feed into the K-Means algorithm\n",
    "data = np.asarray([np.asarray(returns['Returns']),np.asarray(returns['Volatility'])]).T\n",
    "#removing NaN values, replacing them by 0\n",
    "X = np.where(np.isnan(data), 0, data)"
   ]
  },
  {
   "cell_type": "code",
   "execution_count": null,
   "metadata": {},
   "outputs": [],
   "source": [
    "init = np.min(pdist(X))\n",
    "af = AffinityPropagation(preference =-0.09).fit(X) \n",
    "cluster_centers_indices = af.cluster_centers_indices_ \n",
    "labels = af.labels_ \n",
    "  \n",
    "n_clusters_ = len(cluster_centers_indices)"
   ]
  },
  {
   "cell_type": "code",
   "execution_count": null,
   "metadata": {},
   "outputs": [],
   "source": [
    "import matplotlib.pyplot as plt \n",
    "from itertools import cycle \n",
    "  \n",
    "plt.close('all') \n",
    "plt.figure(1) \n",
    "plt.clf() \n",
    "  \n",
    "colors = cycle('bgrcmykbgrcmykbgrcmykbgrcmyk') \n",
    "  \n",
    "for k, col in zip(range(n_clusters_), colors): \n",
    "    class_members = labels == k \n",
    "    cluster_center = X[cluster_centers_indices[k]] \n",
    "    plt.plot(X[class_members, 0], X[class_members, 1], col + '.') \n",
    "    plt.plot(cluster_center[0], cluster_center[1], 'o', \n",
    "             markerfacecolor = col, markeredgecolor ='k', \n",
    "             markersize = 14) \n",
    "  \n",
    "    for x in X[class_members]: \n",
    "        plt.plot([cluster_center[0], x[0]],  \n",
    "                 [cluster_center[1], x[1]], col) \n",
    "  \n",
    "plt.title('Estimated number of clusters: % d' % n_clusters_) \n",
    "plt.show() "
   ]
  },
  {
   "cell_type": "code",
   "execution_count": null,
   "metadata": {},
   "outputs": [],
   "source": []
  }
 ],
 "metadata": {
  "kernelspec": {
   "display_name": "Python 3",
   "language": "python",
   "name": "python3"
  },
  "language_info": {
   "codemirror_mode": {
    "name": "ipython",
    "version": 3
   },
   "file_extension": ".py",
   "mimetype": "text/x-python",
   "name": "python",
   "nbconvert_exporter": "python",
   "pygments_lexer": "ipython3",
   "version": "3.6.8"
  }
 },
 "nbformat": 4,
 "nbformat_minor": 2
}
