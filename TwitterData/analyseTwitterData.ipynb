{
 "cells": [
  {
   "cell_type": "code",
   "execution_count": 1,
   "metadata": {},
   "outputs": [],
   "source": [
    "import re\n",
    "import tweepy\n",
    "from tweepy import OAuthHandler\n",
    "from textblob import TextBlob\n",
    "from tweepy import Stream                   \n",
    "from tweepy.streaming import StreamListener\n",
    "import json\n",
    "import csv\n",
    "import os\n",
    "from os import path\n",
    "import got3"
   ]
  },
  {
   "cell_type": "code",
   "execution_count": 2,
   "metadata": {},
   "outputs": [],
   "source": [
    "def clean_tweet(tweet):\n",
    "    return ' '.join(re.sub(\"(@[A-Za-z0-9]+)|([^0-9A-Za-z \\t]) | (\\w+:\\/\\/\\S+)\", \" \", tweet).split())"
   ]
  },
  {
   "cell_type": "code",
   "execution_count": 3,
   "metadata": {},
   "outputs": [],
   "source": [
    "def clean_tweet(tweet):\n",
    "    return ' '.join(re.sub(\"(@[A-Za-z0-9]+)|([^0-9A-Za-z \\t]) | (\\w+:\\/\\/\\S+)\", \" \", tweet).split())"
   ]
  },
  {
   "cell_type": "code",
   "execution_count": 4,
   "metadata": {},
   "outputs": [],
   "source": [
    "def get_tweet_sentiment(tweet):\n",
    "    analysis = TextBlob(clean_tweet(tweet))\n",
    "    if analysis.sentiment.polarity > 0:\n",
    "        return 'positive'\n",
    "    elif analysis.sentiment.polarity == 0: \n",
    "        return 'neutral'\n",
    "    else: \n",
    "        return 'negative'"
   ]
  },
  {
   "cell_type": "code",
   "execution_count": 5,
   "metadata": {},
   "outputs": [],
   "source": [
    "def write_to_csv(tweet):\n",
    "    #fields = [\"timestamp\", \"tweet\", \"user\", \"verified\", \"url\"]\n",
    "    fields = [\"Date\", \"Positve\", \"Negative\", \"Neutral\",]\n",
    "    filename = \"/home/julian/ml-cmpe257/venv/machine-learning-stock-market/TwitterData/AmazonSentiment.csv\"\n",
    "    fileState = path.isfile(filename)\n",
    "    with open(filename,'a') as fd:        \n",
    "        writer = csv.writer(fd)\n",
    "        if(not fileState):\n",
    "            writer.writerow(fields)\n",
    "        else:\n",
    "            print(tweet)\n",
    "            writer.writerow([tweet.Date, tweet.Positive, tweet.Negative, tweet.Neutral])\n",
    " "
   ]
  },
  {
   "cell_type": "code",
   "execution_count": 17,
   "metadata": {},
   "outputs": [
    {
     "name": "stdout",
     "output_type": "stream",
     "text": [
      "2018-09-30\n",
      "2018-10-01\n",
      "2018-10-02\n",
      "2018-10-03\n",
      "2018-10-04\n",
      "2018-10-05\n",
      "2018-10-06\n",
      "2018-10-07\n",
      "2018-10-08\n",
      "2018-10-09\n",
      "[{'Date': datetime.date(2018, 9, 30), 'Positive': 23.972602739726028, 'Negative': 9.246575342465754, 'Neutral': 66.78082191780823}, {'Date': datetime.date(2018, 10, 1), 'Positive': 31.662269129287598, 'Negative': 10.378188214599824, 'Neutral': 57.959542656112575}, {'Date': datetime.date(2018, 10, 2), 'Positive': 39.095477386934675, 'Negative': 11.557788944723619, 'Neutral': 49.346733668341706}, {'Date': datetime.date(2018, 10, 3), 'Positive': 34.243964421855146, 'Negative': 13.341804320203304, 'Neutral': 52.41423125794155}, {'Date': datetime.date(2018, 10, 4), 'Positive': 31.970649895178198, 'Negative': 16.037735849056602, 'Neutral': 51.9916142557652}, {'Date': datetime.date(2018, 10, 5), 'Positive': 35.93103448275862, 'Negative': 15.655172413793103, 'Neutral': 48.41379310344828}, {'Date': datetime.date(2018, 10, 6), 'Positive': 30.906148867313917, 'Negative': 11.16504854368932, 'Neutral': 57.92880258899677}, {'Date': datetime.date(2018, 10, 7), 'Positive': 28.205128205128204, 'Negative': 15.151515151515152, 'Neutral': 56.64335664335665}, {'Date': datetime.date(2018, 10, 8), 'Positive': 30.906847624922886, 'Negative': 13.942011104256633, 'Neutral': 55.15114127082048}, {'Date': datetime.date(2018, 10, 9), 'Positive': 35.20569620253165, 'Negative': 15.189873417721518, 'Neutral': 49.60443037974684}]\n"
     ]
    }
   ],
   "source": [
    "import pandas as pd\n",
    " \n",
    "tweets_data_path = \"/home/julian/ml-cmpe257/venv/machine-learning-stock-market/TwitterData/Amazon.csv\"\n",
    "pdData = pd.read_csv(tweets_data_path, delimiter=\",\")\n",
    "\n",
    "all_tweets = []\n",
    "count = 0\n",
    "pdData['Date'] = pd.to_datetime(pdData['Date']).dt.date\n",
    "#list(pdData.groupby('Date')['Tweet'])\n",
    "pdata = pdData.groupby('Date')['Tweet']\n",
    "#print (pdata.head())\n",
    "for date, twt in pdata:\n",
    "    print (date)\n",
    "    tweets_day = {}\n",
    "    tweets_data = []\n",
    "    tweets_day['Date'] = date\n",
    "    for t in twt:\n",
    "        parsedTweet = {}\n",
    "        #parsedTweet['text'] = t\n",
    "        parsedTweet['sentiment'] = get_tweet_sentiment(t)\n",
    "        tweets_data.append(parsedTweet)\n",
    "    #tweets_day['data'] = tweets_data\n",
    "    #print (tweets_day)\n",
    "    \n",
    "    ptweets = [tweet for tweet in tweets_data if tweet['sentiment'] == 'positive']\n",
    "    tweets_day['Positive'] = 100*len(ptweets)/len(tweets_data)\n",
    "    ntweets = [tweet for tweet in tweets_data if tweet['sentiment'] == 'negative']\n",
    "    tweets_day['Negative'] = 100*len(ntweets)/len(tweets_data)\n",
    "    tweets_day['Neutral'] = 100*(len(tweets_data) - len(ntweets) - len(ptweets))/len(tweets_data)\n",
    "    all_tweets.append(tweets_day)\n",
    "print(all_tweets.head())"
   ]
  },
  {
   "cell_type": "code",
   "execution_count": 18,
   "metadata": {},
   "outputs": [
    {
     "name": "stdout",
     "output_type": "stream",
     "text": [
      "2018-09-30\n",
      "2018-10-01\n",
      "2018-10-02\n",
      "2018-10-03\n",
      "2018-10-04\n",
      "2018-10-05\n",
      "2018-10-06\n",
      "2018-10-07\n",
      "2018-10-08\n",
      "2018-10-09\n"
     ]
    }
   ],
   "source": [
    "  #fields = [\"timestamp\", \"tweet\", \"user\", \"verified\", \"url\"]\n",
    "fields = [\"Date\", \"Positve\", \"Negative\", \"Neutral\"]\n",
    "filename = \"/home/julian/ml-cmpe257/venv/machine-learning-stock-market/TwitterData/AmazonSentiment.csv\"\n",
    "fileState = path.isfile(filename)\n",
    "with open(filename,'a') as fd:        \n",
    "    writer = csv.writer(fd)\n",
    "    if(not fileState):\n",
    "        writer.writerow(fields)\n",
    "    for sent in all_tweets:\n",
    "        #tweet = all_tweets[idx]\n",
    "        print(sent['Date'])\n",
    "        writer.writerow([sent['Date'], sent['Positive'], sent['Negative'], sent['Neutral']])"
   ]
  },
  {
   "cell_type": "code",
   "execution_count": null,
   "metadata": {},
   "outputs": [],
   "source": []
  }
 ],
 "metadata": {
  "kernelspec": {
   "display_name": "Python 3",
   "language": "python",
   "name": "python3"
  },
  "language_info": {
   "codemirror_mode": {
    "name": "ipython",
    "version": 3
   },
   "file_extension": ".py",
   "mimetype": "text/x-python",
   "name": "python",
   "nbconvert_exporter": "python",
   "pygments_lexer": "ipython3",
   "version": "3.6.8"
  }
 },
 "nbformat": 4,
 "nbformat_minor": 2
}
