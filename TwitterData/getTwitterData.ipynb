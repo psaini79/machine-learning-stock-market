{
 "cells": [
  {
   "cell_type": "code",
   "execution_count": 1,
   "metadata": {},
   "outputs": [],
   "source": [
    "import re\n",
    "import tweepy\n",
    "from tweepy import OAuthHandler\n",
    "from textblob import TextBlob\n",
    "from tweepy import Stream                   \n",
    "from tweepy.streaming import StreamListener\n",
    "import json\n",
    "import csv\n",
    "import os\n",
    "from os import path\n",
    "import got3"
   ]
  },
  {
   "cell_type": "code",
   "execution_count": 2,
   "metadata": {},
   "outputs": [],
   "source": [
    "consumer_key = \"NRPG6rkGN61BqGrbm3CrScqCd\"\n",
    "consumer_secret = \"qqD0uXkQbRNhKQc6uHQzV1VAurr5DWQYREWuFJXdV4F5J21BV9\"\n",
    "token_key = \"1180218244210163718-jsARyi1ToQEVERg9W4jb5E2Je5dP8l\"\n",
    "token_secret = \"YMrcCmwifRWGGzhbExyozxTZSNP9pq5DOhIElytl2spjw\""
   ]
  },
  {
   "cell_type": "code",
   "execution_count": 3,
   "metadata": {},
   "outputs": [],
   "source": [
    "auth = OAuthHandler(consumer_key, consumer_secret)\n",
    "auth.set_access_token(token_key, token_secret)\n",
    "api = tweepy.API(auth)"
   ]
  },
  {
   "cell_type": "code",
   "execution_count": 4,
   "metadata": {},
   "outputs": [
    {
     "name": "stdout",
     "output_type": "stream",
     "text": [
      "12713\n"
     ]
    }
   ],
   "source": [
    "tweetCriteria = got3.manager.TweetCriteria().setQuerySearch('AMZN').setSince(\"2018-10-01\").setUntil(\"2018-10-10\")\n",
    "tweet = got3.manager.TweetManager.getTweets(tweetCriteria)\n",
    "print (len(tweet))"
   ]
  },
  {
   "cell_type": "code",
   "execution_count": 11,
   "metadata": {},
   "outputs": [],
   "source": [
    "def write_to_csv(tweet):\n",
    "    #fields = [\"timestamp\", \"tweet\", \"user\", \"verified\", \"url\"]\n",
    "    fields = [\"Date\", \"Tweet\", \"PermLink\", \"retweets\", \"Favourites\", \"url\", \"Geo\"]\n",
    "    filename = \"C:\\k.v.singh\\sjsu\\Fall 2019\\CMPE257\\TwitterData\\Amazon.csv\"\n",
    "    fileState = path.isfile(filename)\n",
    "    with open(filename,'a') as fd:        \n",
    "        writer = csv.writer(fd)\n",
    "        if(not fileState):\n",
    "            writer.writerow(fields)\n",
    "        else:\n",
    "            #print(tweet)\n",
    "            writer.writerow([tweet.date, tweet.text.encode(\"utf-8\"), tweet.permalink.encode(\"utf-8\"),tweet.retweets, tweet.favorites,tweet.urls.encode(\"utf-8\"),tweet.geo.encode(\"utf-8\")])\n",
    "        #fd.write(timestamp, tweet, user, verified, url)       "
   ]
  },
  {
   "cell_type": "code",
   "execution_count": 12,
   "metadata": {},
   "outputs": [],
   "source": [
    "for idx in range(len(tweet)):\n",
    "    write_to_csv(tweet[idx])"
   ]
  }
 ],
 "metadata": {
  "kernelspec": {
   "display_name": "Python 3",
   "language": "python",
   "name": "python3"
  },
  "language_info": {
   "codemirror_mode": {
    "name": "ipython",
    "version": 3
   },
   "file_extension": ".py",
   "mimetype": "text/x-python",
   "name": "python",
   "nbconvert_exporter": "python",
   "pygments_lexer": "ipython3",
   "version": "3.7.3"
  }
 },
 "nbformat": 4,
 "nbformat_minor": 2
}
